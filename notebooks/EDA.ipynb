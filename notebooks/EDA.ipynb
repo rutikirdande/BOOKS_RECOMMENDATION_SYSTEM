{
 "cells": [
  {
   "cell_type": "code",
   "execution_count": 14,
   "metadata": {},
   "outputs": [],
   "source": [
    "import pandas as pd\n",
    "import numpy as np\n",
    "import matplotlib.pyplot as plt\n",
    "import seaborn as sns\n",
    "%matplotlib inline"
   ]
  },
  {
   "cell_type": "code",
   "execution_count": 17,
   "metadata": {},
   "outputs": [],
   "source": [
    "csv_file = ('../data/books.csv')\n",
    "books_data = pd.read_csv(csv_file)"
   ]
  },
  {
   "cell_type": "code",
   "execution_count": 18,
   "metadata": {},
   "outputs": [
    {
     "data": {
      "text/html": [
       "<div>\n",
       "<style scoped>\n",
       "    .dataframe tbody tr th:only-of-type {\n",
       "        vertical-align: middle;\n",
       "    }\n",
       "\n",
       "    .dataframe tbody tr th {\n",
       "        vertical-align: top;\n",
       "    }\n",
       "\n",
       "    .dataframe thead th {\n",
       "        text-align: right;\n",
       "    }\n",
       "</style>\n",
       "<table border=\"1\" class=\"dataframe\">\n",
       "  <thead>\n",
       "    <tr style=\"text-align: right;\">\n",
       "      <th></th>\n",
       "      <th>Title</th>\n",
       "      <th>Author</th>\n",
       "      <th>Genre</th>\n",
       "      <th>Height</th>\n",
       "      <th>Publisher</th>\n",
       "    </tr>\n",
       "  </thead>\n",
       "  <tbody>\n",
       "    <tr>\n",
       "      <th>0</th>\n",
       "      <td>Fundamentals of Wavelets</td>\n",
       "      <td>Jaideva Goswami</td>\n",
       "      <td>signal_processing</td>\n",
       "      <td>228</td>\n",
       "      <td>Wiley</td>\n",
       "    </tr>\n",
       "    <tr>\n",
       "      <th>1</th>\n",
       "      <td>Data Smart</td>\n",
       "      <td>John Foreman</td>\n",
       "      <td>data_science</td>\n",
       "      <td>235</td>\n",
       "      <td>Wiley</td>\n",
       "    </tr>\n",
       "    <tr>\n",
       "      <th>2</th>\n",
       "      <td>God Created the Integers</td>\n",
       "      <td>Stephen Hawking</td>\n",
       "      <td>mathematics</td>\n",
       "      <td>197</td>\n",
       "      <td>Penguin</td>\n",
       "    </tr>\n",
       "    <tr>\n",
       "      <th>3</th>\n",
       "      <td>Superfreakonomics</td>\n",
       "      <td>Stephen Dubner</td>\n",
       "      <td>economics</td>\n",
       "      <td>179</td>\n",
       "      <td>HarperCollins</td>\n",
       "    </tr>\n",
       "    <tr>\n",
       "      <th>4</th>\n",
       "      <td>Orientalism</td>\n",
       "      <td>Edward Said</td>\n",
       "      <td>history</td>\n",
       "      <td>197</td>\n",
       "      <td>Penguin</td>\n",
       "    </tr>\n",
       "  </tbody>\n",
       "</table>\n",
       "</div>"
      ],
      "text/plain": [
       "                      Title           Author              Genre  Height   \n",
       "0  Fundamentals of Wavelets  Jaideva Goswami  signal_processing     228  \\\n",
       "1                Data Smart     John Foreman       data_science     235   \n",
       "2  God Created the Integers  Stephen Hawking        mathematics     197   \n",
       "3         Superfreakonomics   Stephen Dubner          economics     179   \n",
       "4               Orientalism      Edward Said            history     197   \n",
       "\n",
       "       Publisher  \n",
       "0          Wiley  \n",
       "1          Wiley  \n",
       "2        Penguin  \n",
       "3  HarperCollins  \n",
       "4        Penguin  "
      ]
     },
     "execution_count": 18,
     "metadata": {},
     "output_type": "execute_result"
    }
   ],
   "source": [
    "books_data.head()"
   ]
  },
  {
   "cell_type": "code",
   "execution_count": 19,
   "metadata": {},
   "outputs": [
    {
     "name": "stdout",
     "output_type": "stream",
     "text": [
      "<class 'pandas.core.frame.DataFrame'>\n",
      "RangeIndex: 211 entries, 0 to 210\n",
      "Data columns (total 5 columns):\n",
      " #   Column     Non-Null Count  Dtype \n",
      "---  ------     --------------  ----- \n",
      " 0   Title      211 non-null    object\n",
      " 1   Author     187 non-null    object\n",
      " 2   Genre      211 non-null    object\n",
      " 3   Height     211 non-null    int64 \n",
      " 4   Publisher  115 non-null    object\n",
      "dtypes: int64(1), object(4)\n",
      "memory usage: 8.4+ KB\n"
     ]
    }
   ],
   "source": [
    "books_data.info()"
   ]
  },
  {
   "cell_type": "code",
   "execution_count": 20,
   "metadata": {},
   "outputs": [],
   "source": [
    "books_data.drop(['Height'], axis=1, inplace=True) # delete the column"
   ]
  },
  {
   "cell_type": "code",
   "execution_count": 21,
   "metadata": {},
   "outputs": [
    {
     "data": {
      "text/html": [
       "<div>\n",
       "<style scoped>\n",
       "    .dataframe tbody tr th:only-of-type {\n",
       "        vertical-align: middle;\n",
       "    }\n",
       "\n",
       "    .dataframe tbody tr th {\n",
       "        vertical-align: top;\n",
       "    }\n",
       "\n",
       "    .dataframe thead th {\n",
       "        text-align: right;\n",
       "    }\n",
       "</style>\n",
       "<table border=\"1\" class=\"dataframe\">\n",
       "  <thead>\n",
       "    <tr style=\"text-align: right;\">\n",
       "      <th></th>\n",
       "      <th>Title</th>\n",
       "      <th>Author</th>\n",
       "      <th>Genre</th>\n",
       "      <th>Publisher</th>\n",
       "    </tr>\n",
       "  </thead>\n",
       "  <tbody>\n",
       "    <tr>\n",
       "      <th>0</th>\n",
       "      <td>Fundamentals of Wavelets</td>\n",
       "      <td>Jaideva Goswami</td>\n",
       "      <td>signal_processing</td>\n",
       "      <td>Wiley</td>\n",
       "    </tr>\n",
       "    <tr>\n",
       "      <th>1</th>\n",
       "      <td>Data Smart</td>\n",
       "      <td>John Foreman</td>\n",
       "      <td>data_science</td>\n",
       "      <td>Wiley</td>\n",
       "    </tr>\n",
       "    <tr>\n",
       "      <th>2</th>\n",
       "      <td>God Created the Integers</td>\n",
       "      <td>Stephen Hawking</td>\n",
       "      <td>mathematics</td>\n",
       "      <td>Penguin</td>\n",
       "    </tr>\n",
       "    <tr>\n",
       "      <th>3</th>\n",
       "      <td>Superfreakonomics</td>\n",
       "      <td>Stephen Dubner</td>\n",
       "      <td>economics</td>\n",
       "      <td>HarperCollins</td>\n",
       "    </tr>\n",
       "    <tr>\n",
       "      <th>4</th>\n",
       "      <td>Orientalism</td>\n",
       "      <td>Edward Said</td>\n",
       "      <td>history</td>\n",
       "      <td>Penguin</td>\n",
       "    </tr>\n",
       "  </tbody>\n",
       "</table>\n",
       "</div>"
      ],
      "text/plain": [
       "                      Title           Author              Genre      Publisher\n",
       "0  Fundamentals of Wavelets  Jaideva Goswami  signal_processing          Wiley\n",
       "1                Data Smart     John Foreman       data_science          Wiley\n",
       "2  God Created the Integers  Stephen Hawking        mathematics        Penguin\n",
       "3         Superfreakonomics   Stephen Dubner          economics  HarperCollins\n",
       "4               Orientalism      Edward Said            history        Penguin"
      ]
     },
     "execution_count": 21,
     "metadata": {},
     "output_type": "execute_result"
    }
   ],
   "source": [
    "books_data.head()"
   ]
  },
  {
   "cell_type": "code",
   "execution_count": 22,
   "metadata": {},
   "outputs": [
    {
     "data": {
      "text/plain": [
       "Title         0\n",
       "Author       24\n",
       "Genre         0\n",
       "Publisher    96\n",
       "dtype: int64"
      ]
     },
     "execution_count": 22,
     "metadata": {},
     "output_type": "execute_result"
    }
   ],
   "source": [
    "books_data.isnull().sum()"
   ]
  },
  {
   "cell_type": "code",
   "execution_count": 24,
   "metadata": {},
   "outputs": [
    {
     "data": {
      "text/plain": [
       "Author\n",
       "John Steinbeck      8\n",
       "P L Deshpande       7\n",
       "Alex Rutherford     5\n",
       "Amartya Sen         4\n",
       "Ayn Rand            4\n",
       "                   ..\n",
       "John Grisham        1\n",
       "Will Durant         1\n",
       "Edgar Allen Poe     1\n",
       "Michael Crichton    1\n",
       "Charles Dickens     1\n",
       "Name: count, Length: 129, dtype: int64"
      ]
     },
     "execution_count": 24,
     "metadata": {},
     "output_type": "execute_result"
    }
   ],
   "source": [
    "books_data['Author'].value_counts()"
   ]
  },
  {
   "cell_type": "code",
   "execution_count": 25,
   "metadata": {},
   "outputs": [
    {
     "data": {
      "text/plain": [
       "Publisher\n",
       "Penguin             34\n",
       "Random House        17\n",
       "Mauj                 7\n",
       "HarperCollins        6\n",
       "O'Reilly             4\n",
       "Vintage              3\n",
       "Springer             3\n",
       "Pearson              3\n",
       "vikas                3\n",
       "MIT Press            3\n",
       "Rupa                 3\n",
       "Jaico                3\n",
       "Pan                  2\n",
       "Routledge            2\n",
       "Wiley                2\n",
       "Apress               2\n",
       "Prentice Hall        2\n",
       "FreePress            1\n",
       "Picador              1\n",
       "HighStakes           1\n",
       "Simon&Schuster       1\n",
       "Fontana              1\n",
       "Pocket               1\n",
       "TMH                  1\n",
       "Elsevier             1\n",
       "BBC                  1\n",
       "Hyperion             1\n",
       "Transworld           1\n",
       "HBA                  1\n",
       "Bodley Head          1\n",
       "CRC                  1\n",
       "Orient Blackswan     1\n",
       "Dell                 1\n",
       "Name: count, dtype: int64"
      ]
     },
     "execution_count": 25,
     "metadata": {},
     "output_type": "execute_result"
    }
   ],
   "source": [
    "books_data['Publisher'].value_counts()"
   ]
  },
  {
   "cell_type": "code",
   "execution_count": 26,
   "metadata": {},
   "outputs": [],
   "source": [
    "books_data = books_data.replace(r'^\\s*$', '\\u2713', regex=True)"
   ]
  },
  {
   "cell_type": "code",
   "execution_count": 27,
   "metadata": {},
   "outputs": [
    {
     "data": {
      "text/html": [
       "<div>\n",
       "<style scoped>\n",
       "    .dataframe tbody tr th:only-of-type {\n",
       "        vertical-align: middle;\n",
       "    }\n",
       "\n",
       "    .dataframe tbody tr th {\n",
       "        vertical-align: top;\n",
       "    }\n",
       "\n",
       "    .dataframe thead th {\n",
       "        text-align: right;\n",
       "    }\n",
       "</style>\n",
       "<table border=\"1\" class=\"dataframe\">\n",
       "  <thead>\n",
       "    <tr style=\"text-align: right;\">\n",
       "      <th></th>\n",
       "      <th>Title</th>\n",
       "      <th>Author</th>\n",
       "      <th>Genre</th>\n",
       "      <th>Publisher</th>\n",
       "    </tr>\n",
       "  </thead>\n",
       "  <tbody>\n",
       "    <tr>\n",
       "      <th>0</th>\n",
       "      <td>Fundamentals of Wavelets</td>\n",
       "      <td>Jaideva Goswami</td>\n",
       "      <td>signal_processing</td>\n",
       "      <td>Wiley</td>\n",
       "    </tr>\n",
       "    <tr>\n",
       "      <th>1</th>\n",
       "      <td>Data Smart</td>\n",
       "      <td>John Foreman</td>\n",
       "      <td>data_science</td>\n",
       "      <td>Wiley</td>\n",
       "    </tr>\n",
       "    <tr>\n",
       "      <th>2</th>\n",
       "      <td>God Created the Integers</td>\n",
       "      <td>Stephen Hawking</td>\n",
       "      <td>mathematics</td>\n",
       "      <td>Penguin</td>\n",
       "    </tr>\n",
       "    <tr>\n",
       "      <th>3</th>\n",
       "      <td>Superfreakonomics</td>\n",
       "      <td>Stephen Dubner</td>\n",
       "      <td>economics</td>\n",
       "      <td>HarperCollins</td>\n",
       "    </tr>\n",
       "    <tr>\n",
       "      <th>4</th>\n",
       "      <td>Orientalism</td>\n",
       "      <td>Edward Said</td>\n",
       "      <td>history</td>\n",
       "      <td>Penguin</td>\n",
       "    </tr>\n",
       "  </tbody>\n",
       "</table>\n",
       "</div>"
      ],
      "text/plain": [
       "                      Title           Author              Genre      Publisher\n",
       "0  Fundamentals of Wavelets  Jaideva Goswami  signal_processing          Wiley\n",
       "1                Data Smart     John Foreman       data_science          Wiley\n",
       "2  God Created the Integers  Stephen Hawking        mathematics        Penguin\n",
       "3         Superfreakonomics   Stephen Dubner          economics  HarperCollins\n",
       "4               Orientalism      Edward Said            history        Penguin"
      ]
     },
     "execution_count": 27,
     "metadata": {},
     "output_type": "execute_result"
    }
   ],
   "source": [
    "books_data.head()"
   ]
  },
  {
   "cell_type": "code",
   "execution_count": 28,
   "metadata": {},
   "outputs": [],
   "source": [
    "from sklearn.feature_extraction.text import TfidfVectorizer\n",
    "from sklearn.metrics.pairwise import linear_kernel"
   ]
  },
  {
   "cell_type": "code",
   "execution_count": 29,
   "metadata": {},
   "outputs": [],
   "source": [
    "# Function to convert the author name\n",
    "def convert_author_name(author):\n",
    "    if isinstance(author, str):  # Check if the value is a string\n",
    "        parts = author.split(\", \")\n",
    "        if len(parts) == 2:\n",
    "            first_name = parts[1]\n",
    "            last_name = parts[0]\n",
    "            converted_name = f\"{first_name} {last_name}\"\n",
    "            return converted_name\n",
    "    return author\n",
    "\n",
    "# Apply the conversion function to the \"Author\" column\n",
    "books_data['Author'] = books_data['Author'].apply(convert_author_name)\n",
    "\n",
    "#Apply the conversation function to the \"Publisher\" column\n",
    "books_data['Title'] = books_data['Title'].apply(convert_author_name)\n",
    "\n",
    "\n"
   ]
  },
  {
   "cell_type": "code",
   "execution_count": 30,
   "metadata": {},
   "outputs": [
    {
     "data": {
      "text/html": [
       "<div>\n",
       "<style scoped>\n",
       "    .dataframe tbody tr th:only-of-type {\n",
       "        vertical-align: middle;\n",
       "    }\n",
       "\n",
       "    .dataframe tbody tr th {\n",
       "        vertical-align: top;\n",
       "    }\n",
       "\n",
       "    .dataframe thead th {\n",
       "        text-align: right;\n",
       "    }\n",
       "</style>\n",
       "<table border=\"1\" class=\"dataframe\">\n",
       "  <thead>\n",
       "    <tr style=\"text-align: right;\">\n",
       "      <th></th>\n",
       "      <th>Title</th>\n",
       "      <th>Author</th>\n",
       "      <th>Genre</th>\n",
       "      <th>Publisher</th>\n",
       "    </tr>\n",
       "  </thead>\n",
       "  <tbody>\n",
       "    <tr>\n",
       "      <th>0</th>\n",
       "      <td>Fundamentals of Wavelets</td>\n",
       "      <td>Jaideva Goswami</td>\n",
       "      <td>signal_processing</td>\n",
       "      <td>Wiley</td>\n",
       "    </tr>\n",
       "    <tr>\n",
       "      <th>1</th>\n",
       "      <td>Data Smart</td>\n",
       "      <td>John Foreman</td>\n",
       "      <td>data_science</td>\n",
       "      <td>Wiley</td>\n",
       "    </tr>\n",
       "    <tr>\n",
       "      <th>2</th>\n",
       "      <td>God Created the Integers</td>\n",
       "      <td>Stephen Hawking</td>\n",
       "      <td>mathematics</td>\n",
       "      <td>Penguin</td>\n",
       "    </tr>\n",
       "    <tr>\n",
       "      <th>3</th>\n",
       "      <td>Superfreakonomics</td>\n",
       "      <td>Stephen Dubner</td>\n",
       "      <td>economics</td>\n",
       "      <td>HarperCollins</td>\n",
       "    </tr>\n",
       "    <tr>\n",
       "      <th>4</th>\n",
       "      <td>Orientalism</td>\n",
       "      <td>Edward Said</td>\n",
       "      <td>history</td>\n",
       "      <td>Penguin</td>\n",
       "    </tr>\n",
       "  </tbody>\n",
       "</table>\n",
       "</div>"
      ],
      "text/plain": [
       "                      Title           Author              Genre      Publisher\n",
       "0  Fundamentals of Wavelets  Jaideva Goswami  signal_processing          Wiley\n",
       "1                Data Smart     John Foreman       data_science          Wiley\n",
       "2  God Created the Integers  Stephen Hawking        mathematics        Penguin\n",
       "3         Superfreakonomics   Stephen Dubner          economics  HarperCollins\n",
       "4               Orientalism      Edward Said            history        Penguin"
      ]
     },
     "execution_count": 30,
     "metadata": {},
     "output_type": "execute_result"
    }
   ],
   "source": [
    "books_data.head()"
   ]
  },
  {
   "cell_type": "code",
   "execution_count": 31,
   "metadata": {},
   "outputs": [
    {
     "name": "stdout",
     "output_type": "stream",
     "text": [
      "Recommendations for 'Orientalism':\n",
      "82    India from Midnight to Milennium\n",
      "74                     The Last Mughal\n",
      "14                    The Age of Wrath\n",
      "85                        O Jerusalem!\n",
      "87                 Freedom at Midnight\n",
      "Name: Title, dtype: object\n"
     ]
    }
   ],
   "source": [
    "from sklearn.feature_extraction.text import TfidfVectorizer\n",
    "from sklearn.metrics.pairwise import linear_kernel\n",
    "\n",
    "\n",
    "# Replace np.nan with empty strings in the 'description' column\n",
    "books_data['description'] = books_data['Author'] + ' ' + books_data['Genre'] +' ' + books_data['Publisher']\n",
    "\n",
    "books_data['description'] = books_data['description'].fillna('')\n",
    "\n",
    "# Create a TF-IDF vectorizer\n",
    "vectorizer = TfidfVectorizer(stop_words='english')\n",
    "\n",
    "# Apply the vectorizer to the book descriptions\n",
    "tfidf_matrix = vectorizer.fit_transform(books_data['description'])\n",
    "\n",
    "# Compute the cosine similarity matrix\n",
    "cosine_similarities = linear_kernel(tfidf_matrix, tfidf_matrix)\n",
    "\n",
    "# Function to get book recommendations based on book title\n",
    "def get_book_recommendations(title, cosine_similarities, books_data, top_n=5):\n",
    "    # Get the index of the book with the given title\n",
    "    book_index = books_data[books_data['Title'] == title].index[0]\n",
    "\n",
    "    # Get the pair-wise similarity scores of all books with the given book\n",
    "    similarity_scores = list(enumerate(cosine_similarities[book_index]))\n",
    "\n",
    "    # Sort the books based on similarity scores\n",
    "    similarity_scores = sorted(similarity_scores, key=lambda x: x[1], reverse=True)\n",
    "\n",
    "    # Get the top N most similar books (excluding itself)\n",
    "    top_books_indices = [index for index, _ in similarity_scores[1:top_n+1]]\n",
    "\n",
    "    # Return the top N book titles\n",
    "    return books_data['Title'].iloc[top_books_indices]\n",
    "\n",
    "# Get book recommendations for a specific book\n",
    "book_title = 'Orientalism'\n",
    "recommendations = get_book_recommendations(book_title, cosine_similarities, books_data)\n",
    "\n",
    "# Print the recommendations\n",
    "print(f\"Recommendations for '{book_title}':\")\n",
    "print(recommendations)\n",
    "\n"
   ]
  },
  {
   "cell_type": "code",
   "execution_count": null,
   "metadata": {},
   "outputs": [],
   "source": []
  }
 ],
 "metadata": {
  "kernelspec": {
   "display_name": "Python 3",
   "language": "python",
   "name": "python3"
  },
  "language_info": {
   "codemirror_mode": {
    "name": "ipython",
    "version": 3
   },
   "file_extension": ".py",
   "mimetype": "text/x-python",
   "name": "python",
   "nbconvert_exporter": "python",
   "pygments_lexer": "ipython3",
   "version": "3.8.0"
  },
  "orig_nbformat": 4
 },
 "nbformat": 4,
 "nbformat_minor": 2
}
